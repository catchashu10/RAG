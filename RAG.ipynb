{
 "cells": [
  {
   "cell_type": "markdown",
   "metadata": {},
   "source": [
    "# Basic Bare minimum RAG to test"
   ]
  },
  {
   "cell_type": "code",
   "execution_count": null,
   "metadata": {},
   "outputs": [],
   "source": [
    "import os\n",
    "\n",
    "os.environ[\"OPENAI_API_KEY\"] = \"\""
   ]
  },
  {
   "cell_type": "code",
   "execution_count": null,
   "metadata": {},
   "outputs": [],
   "source": [
    "from llama_index.core import VectorStoreIndex, SimpleDirectoryReader\n",
    "\n",
    "documents = SimpleDirectoryReader(\"data/\").load_data()\n",
    "index = VectorStoreIndex.from_documents(documents)\n",
    "\n",
    "query_engine = index.as_query_engine()\n",
    "response = query_engine.query(\"What is the document about?\")\n",
    "print(response)"
   ]
  },
  {
   "cell_type": "markdown",
   "metadata": {},
   "source": [
    "# RAG setup using Sentence Transformers"
   ]
  },
  {
   "cell_type": "code",
   "execution_count": 7,
   "metadata": {},
   "outputs": [
    {
     "name": "stdout",
     "output_type": "stream",
     "text": [
      "DatasetDict({\n",
      "    train: Dataset({\n",
      "        features: ['question', 'answer'],\n",
      "        num_rows: 56402\n",
      "    })\n",
      "})\n",
      "['Isn’t it awful? You would swear that there wasn’t enough hot water to go around!\\n', 'A proxy server is a system or router that provides a gateway between users and the internet. Therefore, it helps prevent cyber attackers from entering a private network. It is a server, referred to as an “intermediary” because it goes between end-users and the web pages they visit online.\\n When a computer connects to the internet, it uses an IP address. This is similar to your home’s street address, telling incoming data where to go and marking outgoing data with a return address for other devices to authenticate. A proxy server is essentially a computer on the internet that has an IP address of its own.\\n How a Proxy Works\\nBecause a proxy server has its own IP address, it acts as a go-between for a computer and the internet. Your computer knows this address, and when you send a request on the internet, it is routed to the proxy, which then gets the response from the web server and forwards the data from the page to your computer’s browser, like Chrome, Safari, Firefox, or Microsoft Edge\\n Benefits of a Proxy Server\\n Enhanced security: Can act like a firewall between your systems and the internet. Without them, hackers have easy access to your IP address, which they can use to infiltrate your computer or network.\\n Private browsing, watching, listening, and shopping: Use different proxies to help you avoid getting inundated with unwanted ads or the collection of IP-specific data.\\n Access to location-specific content: You can designate a proxy server with an address associated with another country. You can, in effect, make it look like you are in that country and gain full access to all the content computers in that country are allowed to interact with.\\n', \"MacArthur's Park\\n\", \"Don't let apps that are liers put adds on your site. Like ones that say they have free age verification, but try charging your card. There all fucking liers, just dont understand why sites promote them and let them post there lies on your site. Also if you want your site to be better, when I click on mature anal lover's. It does not go to that it goes to a lying BS hook up site, that charges you for age verification. Like mature women just a bummer I can't get to the site. Big waist of my time really. Sure your making money from the bastards, if not making money from them. Your getting screwed then.\\n\", 'St. John in the book of Revelation mentions an address that some scholars suggest might refer the the place that has become known as ‘purgatory.’ Somewhere close to 1600 Pennsylvania Av.\\n']\n",
      "Train dataset size: 42301\n",
      "Test dataset size: 14101\n",
      "Dataset({\n",
      "    features: ['question', 'answer'],\n",
      "    num_rows: 42301\n",
      "})\n",
      "Dataset({\n",
      "    features: ['question', 'answer'],\n",
      "    num_rows: 14101\n",
      "})\n"
     ]
    }
   ],
   "source": [
    "from datasets import load_dataset\n",
    "\n",
    "# Load the dataset\n",
    "ds = load_dataset(\"toughdata/quora-question-answer-dataset\")\n",
    "\n",
    "print(ds)\n",
    "# Extract the corpus\n",
    "corpus = ds['train']['answer']\n",
    "print(corpus[:5])\n",
    "# Split the dataset\n",
    "split = ds['train'].train_test_split(test_size=0.25, seed=42)\n",
    "\n",
    "# Access the train and test splits\n",
    "train_ds = split['train']\n",
    "test_ds = split['test']\n",
    "\n",
    "# Print the details\n",
    "print(f\"Train dataset size: {len(train_ds)}\")\n",
    "print(f\"Test dataset size: {len(test_ds)}\")\n",
    "\n",
    "print(train_ds)\n",
    "print(test_ds)"
   ]
  },
  {
   "cell_type": "code",
   "execution_count": 4,
   "metadata": {},
   "outputs": [
    {
     "data": {
      "application/vnd.jupyter.widget-view+json": {
       "model_id": "765ba70cd308428089864176cf10920d",
       "version_major": 2,
       "version_minor": 0
      },
      "text/plain": [
       "Batches:   0%|          | 0/1763 [00:00<?, ?it/s]"
      ]
     },
     "metadata": {},
     "output_type": "display_data"
    }
   ],
   "source": [
    "from sentence_transformers import SentenceTransformer\n",
    "# 1. Load a pretrained Sentence Transformer model\n",
    "model = SentenceTransformer(\"all-MiniLM-L6-v2\")\n",
    "\n",
    "# 2. Generate embeddings\n",
    "embeddings = model.encode(corpus, batch_size=32, show_progress_bar=True, convert_to_tensor=True)\n",
    "\n"
   ]
  },
  {
   "cell_type": "code",
   "execution_count": 6,
   "metadata": {},
   "outputs": [
    {
     "name": "stderr",
     "output_type": "stream",
     "text": [
      "huggingface/tokenizers: The current process just got forked, after parallelism has already been used. Disabling parallelism to avoid deadlocks...\n",
      "To disable this warning, you can either:\n",
      "\t- Avoid using `tokenizers` before the fork if possible\n",
      "\t- Explicitly set the environment variable TOKENIZERS_PARALLELISM=(true | false)\n"
     ]
    },
    {
     "name": "stdout",
     "output_type": "stream",
     "text": [
      "Collecting cohere\n",
      "  Downloading cohere-5.13.3-py3-none-any.whl.metadata (3.5 kB)\n",
      "Collecting fastavro<2.0.0,>=1.9.4 (from cohere)\n",
      "  Downloading fastavro-1.9.7-cp312-cp312-manylinux_2_17_x86_64.manylinux2014_x86_64.whl.metadata (5.5 kB)\n",
      "Requirement already satisfied: httpx>=0.21.2 in /home/catch/CS839/venv/lib/python3.12/site-packages (from cohere) (0.28.1)\n",
      "Collecting httpx-sse==0.4.0 (from cohere)\n",
      "  Downloading httpx_sse-0.4.0-py3-none-any.whl.metadata (9.0 kB)\n",
      "Collecting numpy<2.0,>=1.26 (from cohere)\n",
      "  Downloading numpy-1.26.4-cp312-cp312-manylinux_2_17_x86_64.manylinux2014_x86_64.whl.metadata (61 kB)\n",
      "Collecting parameterized<0.10.0,>=0.9.0 (from cohere)\n",
      "  Downloading parameterized-0.9.0-py2.py3-none-any.whl.metadata (18 kB)\n",
      "Requirement already satisfied: pydantic>=1.9.2 in /home/catch/CS839/venv/lib/python3.12/site-packages (from cohere) (2.10.3)\n",
      "Requirement already satisfied: pydantic-core<3.0.0,>=2.18.2 in /home/catch/CS839/venv/lib/python3.12/site-packages (from cohere) (2.27.1)\n",
      "Requirement already satisfied: requests<3.0.0,>=2.0.0 in /home/catch/CS839/venv/lib/python3.12/site-packages (from cohere) (2.32.3)\n",
      "Requirement already satisfied: tokenizers<1,>=0.15 in /home/catch/CS839/venv/lib/python3.12/site-packages (from cohere) (0.21.0)\n",
      "Collecting types-requests<3.0.0,>=2.0.0 (from cohere)\n",
      "  Downloading types_requests-2.32.0.20241016-py3-none-any.whl.metadata (1.9 kB)\n",
      "Requirement already satisfied: typing_extensions>=4.0.0 in /home/catch/CS839/venv/lib/python3.12/site-packages (from cohere) (4.12.2)\n",
      "Requirement already satisfied: anyio in /home/catch/CS839/venv/lib/python3.12/site-packages (from httpx>=0.21.2->cohere) (4.7.0)\n",
      "Requirement already satisfied: certifi in /home/catch/CS839/venv/lib/python3.12/site-packages (from httpx>=0.21.2->cohere) (2024.8.30)\n",
      "Requirement already satisfied: httpcore==1.* in /home/catch/CS839/venv/lib/python3.12/site-packages (from httpx>=0.21.2->cohere) (1.0.7)\n",
      "Requirement already satisfied: idna in /home/catch/CS839/venv/lib/python3.12/site-packages (from httpx>=0.21.2->cohere) (3.10)\n",
      "Requirement already satisfied: h11<0.15,>=0.13 in /home/catch/CS839/venv/lib/python3.12/site-packages (from httpcore==1.*->httpx>=0.21.2->cohere) (0.14.0)\n",
      "Requirement already satisfied: annotated-types>=0.6.0 in /home/catch/CS839/venv/lib/python3.12/site-packages (from pydantic>=1.9.2->cohere) (0.7.0)\n",
      "Requirement already satisfied: charset-normalizer<4,>=2 in /home/catch/CS839/venv/lib/python3.12/site-packages (from requests<3.0.0,>=2.0.0->cohere) (3.4.0)\n",
      "Requirement already satisfied: urllib3<3,>=1.21.1 in /home/catch/CS839/venv/lib/python3.12/site-packages (from requests<3.0.0,>=2.0.0->cohere) (2.2.3)\n",
      "Requirement already satisfied: huggingface-hub<1.0,>=0.16.4 in /home/catch/CS839/venv/lib/python3.12/site-packages (from tokenizers<1,>=0.15->cohere) (0.26.5)\n",
      "Requirement already satisfied: filelock in /home/catch/CS839/venv/lib/python3.12/site-packages (from huggingface-hub<1.0,>=0.16.4->tokenizers<1,>=0.15->cohere) (3.16.1)\n",
      "Requirement already satisfied: fsspec>=2023.5.0 in /home/catch/CS839/venv/lib/python3.12/site-packages (from huggingface-hub<1.0,>=0.16.4->tokenizers<1,>=0.15->cohere) (2024.9.0)\n",
      "Requirement already satisfied: packaging>=20.9 in /home/catch/CS839/venv/lib/python3.12/site-packages (from huggingface-hub<1.0,>=0.16.4->tokenizers<1,>=0.15->cohere) (24.2)\n",
      "Requirement already satisfied: pyyaml>=5.1 in /home/catch/CS839/venv/lib/python3.12/site-packages (from huggingface-hub<1.0,>=0.16.4->tokenizers<1,>=0.15->cohere) (6.0.2)\n",
      "Requirement already satisfied: tqdm>=4.42.1 in /home/catch/CS839/venv/lib/python3.12/site-packages (from huggingface-hub<1.0,>=0.16.4->tokenizers<1,>=0.15->cohere) (4.67.1)\n",
      "Requirement already satisfied: sniffio>=1.1 in /home/catch/CS839/venv/lib/python3.12/site-packages (from anyio->httpx>=0.21.2->cohere) (1.3.1)\n",
      "Downloading cohere-5.13.3-py3-none-any.whl (249 kB)\n",
      "Downloading httpx_sse-0.4.0-py3-none-any.whl (7.8 kB)\n",
      "Downloading fastavro-1.9.7-cp312-cp312-manylinux_2_17_x86_64.manylinux2014_x86_64.whl (3.3 MB)\n",
      "\u001b[2K   \u001b[38;2;114;156;31m━━━━━━━━━━━━━━━━━━━━━━━━━━━━━━━━━━━━━━━━\u001b[0m \u001b[32m3.3/3.3 MB\u001b[0m \u001b[31m66.7 MB/s\u001b[0m eta \u001b[36m0:00:00\u001b[0m\n",
      "\u001b[?25hDownloading numpy-1.26.4-cp312-cp312-manylinux_2_17_x86_64.manylinux2014_x86_64.whl (18.0 MB)\n",
      "\u001b[2K   \u001b[38;2;114;156;31m━━━━━━━━━━━━━━━━━━━━━━━━━━━━━━━━━━━━━━━━\u001b[0m \u001b[32m18.0/18.0 MB\u001b[0m \u001b[31m136.1 MB/s\u001b[0m eta \u001b[36m0:00:00\u001b[0m\n",
      "\u001b[?25hDownloading parameterized-0.9.0-py2.py3-none-any.whl (20 kB)\n",
      "Downloading types_requests-2.32.0.20241016-py3-none-any.whl (15 kB)\n",
      "Installing collected packages: types-requests, parameterized, numpy, httpx-sse, fastavro, cohere\n",
      "  Attempting uninstall: numpy\n",
      "    Found existing installation: numpy 2.2.0\n",
      "    Uninstalling numpy-2.2.0:\n",
      "      Successfully uninstalled numpy-2.2.0\n",
      "Successfully installed cohere-5.13.3 fastavro-1.9.7 httpx-sse-0.4.0 numpy-1.26.4 parameterized-0.9.0 types-requests-2.32.0.20241016\n"
     ]
    }
   ],
   "source": [
    "!pip install cohere"
   ]
  },
  {
   "cell_type": "code",
   "execution_count": null,
   "metadata": {},
   "outputs": [],
   "source": []
  },
  {
   "cell_type": "code",
   "execution_count": 7,
   "metadata": {},
   "outputs": [
    {
     "name": "stdout",
     "output_type": "stream",
     "text": [
      "torch.Size([56402, 384])\n",
      "tensor([[ 0.0786,  0.0242,  0.0263,  ...,  0.0464, -0.1054,  0.0366],\n",
      "        [-0.0498, -0.0341,  0.0440,  ...,  0.0381, -0.0093, -0.0391],\n",
      "        [ 0.0365,  0.0454,  0.0159,  ...,  0.0293, -0.0735,  0.0448],\n",
      "        ...,\n",
      "        [-0.0756,  0.0891, -0.0266,  ..., -0.0312, -0.0291,  0.0853],\n",
      "        [-0.0277,  0.0797,  0.0494,  ..., -0.0381, -0.0556,  0.0960],\n",
      "        [ 0.0438,  0.0441,  0.0684,  ..., -0.0912, -0.0427, -0.0391]],\n",
      "       device='cuda:0')\n"
     ]
    }
   ],
   "source": [
    "print(embeddings.size())\n",
    "print(embeddings)"
   ]
  },
  {
   "cell_type": "code",
   "execution_count": 43,
   "metadata": {},
   "outputs": [
    {
     "name": "stdout",
     "output_type": "stream",
     "text": [
      "[{'corpus_id': 53619, 'score': 0.791310727596283}, {'corpus_id': 21947, 'score': 0.78010094165802}, {'corpus_id': 25515, 'score': 0.7756905555725098}, {'corpus_id': 34270, 'score': 0.7715657353401184}, {'corpus_id': 46198, 'score': 0.7709584832191467}, {'corpus_id': 251, 'score': 0.7698847055435181}, {'corpus_id': 20542, 'score': 0.7693929076194763}, {'corpus_id': 52203, 'score': 0.7677500247955322}, {'corpus_id': 55163, 'score': 0.766452968120575}, {'corpus_id': 6980, 'score': 0.7634493112564087}]\n"
     ]
    }
   ],
   "source": [
    "from sentence_transformers import util\n",
    "# Define a query\n",
    "query = \"What is a proxy, and how can I use one?\"\n",
    "\n",
    "# Encode the query\n",
    "query_embedding = model.encode(query, convert_to_tensor=True)\n",
    "\n",
    "# Perform semantic search\n",
    "top_k = 10  # Number of top answers to retrieve\n",
    "results = util.semantic_search(query_embedding, embeddings, top_k=top_k)[0]\n",
    "\n",
    "print(results)"
   ]
  },
  {
   "cell_type": "code",
   "execution_count": 44,
   "metadata": {},
   "outputs": [
    {
     "name": "stdout",
     "output_type": "stream",
     "text": [
      "[{'corpus_id': 53619, 'score': 0.99879336}, {'corpus_id': 34270, 'score': 0.99630713}, {'corpus_id': 52203, 'score': 0.9956176}, {'corpus_id': 6980, 'score': 0.9951514}, {'corpus_id': 46198, 'score': 0.99482024}]\n"
     ]
    }
   ],
   "source": [
    "import cohere\n",
    "co = cohere.Client(\"qlZQilLRRahYfRjX3wzOhrpUkD4cA3yjcMG8MbiW\")\n",
    "\n",
    "\n",
    "result_to_corpus_id_map = {}\n",
    "documents = []\n",
    "final_results = []\n",
    "for i, result in enumerate(results):\n",
    "    result_to_corpus_id_map[corpus[result['corpus_id']]] = [result['corpus_id'], result['score']]\n",
    "    documents.append(corpus[result['corpus_id']])\n",
    "# print(documents)\n",
    "results_post_rerank = co.rerank(query=query, documents=documents, top_n=5, model=\"rerank-multilingual-v2.0\")\n",
    "for result in results_post_rerank.results:\n",
    "    final_results.append({'corpus_id' : result_to_corpus_id_map[documents[result.index]][0], 'score' :  result.relevance_score})\n",
    "print(final_results)"
   ]
  },
  {
   "cell_type": "code",
   "execution_count": 45,
   "metadata": {},
   "outputs": [
    {
     "name": "stdout",
     "output_type": "stream",
     "text": [
      "Query: What is a proxy, and how can I use one?\n",
      "\n",
      "Rank 1:\n",
      "Answer: What is a Proxy?\n",
      " A proxy can be defined as software that makes requests to the server on behalf of the clients. In simple words, the proxy sits between the clients and the servers. Any request from the user first goes through the proxy and then reaches the server. This is also known as \"forward proxy\".\n",
      " The system or router on which this software sits is known as a Proxy Server.\n",
      "How does a proxy work?\n",
      " As mentioned, proxies are an intermediary that sits between a user's browser and a website, routing the requests through their own machine. It can be thought of as if proxies act as a filter between users and the server. Any request from the user first goes through the proxy and then reaches the server.\n",
      " They also provide a level of anonymity, often required by people who do not want their browsing history to be tracked by their ISPs. Proxies are also used to allow users to access sites they would not normally be able to reach.\n",
      " If you want to know more about a proxy, checkout this article titled - “What is a Proxy? The difference between a proxy and a reverse proxy. Use cases of proxies.”\n",
      "[LINKED_TEXT: The Complete Guide to Proxies. Difference between a proxy and a reverse proxy. Types of proxies - The Geeky MindsA proxy can be defined as a software that makes requests to the server on behalf of the clients. In simple words, the proxy sits between the clients and the servers. Any request from the user first goes through the proxy and then reaches the server. This is also known as \"forward proxy\".https://www.thegeekyminds.com/post/what-is-a-proxy-the-difference-between-a-proxy-and-a-reverse-proxy-use-cases-of-proxies] [URL: https://www.thegeekyminds.com/post/what-is-a-proxy-the-difference-between-a-proxy-and-a-reverse-proxy-use-cases-of-proxies]\n",
      "Score: 0.9988\n",
      "\n",
      "Rank 2:\n",
      "Answer: A proxy server is arguably a remote computer that is used to restrict Internet access, filter content, and make Internet browsing more secure. It acts as a middleman between the end user and the web server, as all connections are via it.\n",
      " A proxy server works by filtering requests first, then sends them to the web server. Once the web server responds, the proxy filters the response then relays to the end user.\n",
      "\n",
      "Score: 0.9963\n",
      "\n",
      "Rank 3:\n",
      "Answer: A proxy server is a computer that can connect as an interface between two computers or networks. It assumes an intermediary role, receiving requests and transmitting them with its own IP address to another network. Proxy servers can be used on the Internet to hide the IP address. The basic meaning of the word '' 'proxy' '' is “the agency, function, or trade of someone acting as a substitute for another” (Merriam Webster English Dictionary).\n",
      " So the main objective of a proxy is to act as a substitute. In principle, anyone can configure their own proxy server.\n",
      "Network proxy: A proxy server can also be used as part of a network, which is known as a network proxy or network proxy. Two communication partners can exchange files or requests without transmitting the actual network address.\n",
      " Dedicated proxy: A dedicated proxy, or dedicated proxy, not only connects two communication partners but also has a direct effect on the way of communication. You can manipulate, filter, or cache the data packets that are sent to you. Caching is widely applied, especially on the Internet. In this way, the requested files are available more quickly to the Internet user.\n",
      " Circuit level proxy: A circuit-level proxy, or circuit-level proxy, is typically installed on a firewall. It works independently of the network protocol as a filter for traffic from specific addresses or ports.\n",
      " There are a lot of proxy providers. [LINKED_TEXT: Global Peer to Business Proxy Network] [URL: https://infatica.io/] is one of them. To know more click [LINKED_TEXT: here] [URL: https://infatica.io/].\n",
      "\n",
      "Score: 0.9956\n",
      "\n",
      "Rank 4:\n",
      "Answer: A proxy is a substitute, a substitute, or a substitute. In the Internet world, a proxy server acts as an intermediary between a web browser (computer) with a private IP address and another server on the Internet.\n",
      " A proxy server has its own address, an IP address.\n",
      " You can run a proxy server for 3 reasons: security, identity protection, or load balancing.\n",
      " Proxy Servers can:\n",
      "Obscure a client’s private IPBlock malicious trafficBlock specific sitesLog a server’s activitySpeed up performance\n",
      "A proxy server receives requests for information from a particular URL and passes the request to another server. Then it forwards the answer to the computer that asked the question. Think of this analogy. A receptionist at a dentist's office receives a call from a patient asking if she can continue taking Tylenol. He asks the dentist, who answers the question. The receptionist then transmits the answer to the caller. The receptionist is the agent. Within an organisation, such as a university or business, proxy servers can cope with the Internet (outward) and transmit requests from computers on the campus network to destination computers outside the network. Or they can look inside, receive requests for information, and send them to computers located on campus or in the business network. Hackers can access your proxy server, but not the server that actually runs the web software.\n",
      " Nowadays there plenty of great proxy server providers like ProxyAqua, Smartproxy, and Netnut, and many others that offer you a great variety of proxy services that can be useful for you while working as well as while browsing the web for your own purposes.\n",
      "\n",
      "Score: 0.9952\n",
      "\n",
      "Rank 5:\n",
      "Answer: A proxy server is a computer that acts as an intermediary between your computer and the Internet. When you access the Internet, your computer will first connect to the proxy server, which will then connect to the website you want to access. The proxy server will then send the website information back to your computer.\n",
      "Proxy servers can be used for a variety of purposes, such as to improve security or to filter content. When used for security, a proxy server can help to protect your computer from malware or hackers. By filtering content, a proxy server can block websites that contain offensive or illegal content.\n",
      " There are a few different types of proxy servers, including web proxies, application proxies, and SOCKS proxies. Web proxies are the most common type of proxy server. They can be used to access websites that are blocked by your ISP or firewall. Application proxies can be used to access specific applications that are blocked. SOCKS proxies can be used to access any type of Internet traffic, including email, chat, and file sharing.\n",
      " Proxy servers can be configured in a number of ways. They can be configured to allow or deny access to specific websites or IP addresses. They can also be configured to use different ports for different types of traffic.\n",
      " For more information, please visit the website:\n",
      "[LINKED_TEXT: Best Proxy Services of 2023 - Ultimate Proxy Comparisons | Stupid ProxyThe Ultimate Proxy Comparisons and in-depth guides to help you find the best proxy service to match your Online marketing, Security and Privacy requirement.https://www.stupidproxy.com/best-proxy/] [URL: https://www.stupidproxy.com/best-proxy/]\n",
      "Score: 0.9948\n",
      "\n"
     ]
    }
   ],
   "source": [
    "# Print the top-k results\n",
    "print(f\"Query: {query}\\n\")\n",
    "for i, result in enumerate(final_results):\n",
    "    print(f\"Rank {i + 1}:\")\n",
    "    print(f\"Answer: {corpus[result['corpus_id']]}\")\n",
    "    print(f\"Score: {result['score']:.4f}\\n\")"
   ]
  },
  {
   "cell_type": "code",
   "execution_count": 20,
   "metadata": {},
   "outputs": [
    {
     "name": "stdout",
     "output_type": "stream",
     "text": [
      "Top-5 Accuracy: 0.1933\n"
     ]
    }
   ],
   "source": [
    "from sentence_transformers import util\n",
    "\n",
    "def evaluate_model(questions, answers, corpus, corpus_embeddings, model, top_k=5):\n",
    "    \"\"\"\n",
    "    Evaluate the accuracy of the embedding model by checking if the correct answer \n",
    "    is in the top-k retrieved results for each question.\n",
    "    \n",
    "    Parameters:\n",
    "    - questions: List of questions to query.\n",
    "    - answers: List of corresponding correct answers for the questions.\n",
    "    - corpus: List of all answers in the corpus.\n",
    "    - corpus_embeddings: Precomputed embeddings for the corpus.\n",
    "    - model: The SentenceTransformer model.\n",
    "    - top_k: Number of top results to consider for accuracy calculation.\n",
    "    \n",
    "    Returns:\n",
    "    - accuracy: The overall accuracy of the model.\n",
    "    \"\"\"\n",
    "    correct_count = 0\n",
    "    total_questions = len(questions)\n",
    "\n",
    "    for i, question in enumerate(questions):\n",
    "        # Encode the query\n",
    "        query_embedding = model.encode(question, convert_to_tensor=True)\n",
    "\n",
    "        # Perform semantic search\n",
    "        results = util.semantic_search(query_embedding, corpus_embeddings, top_k=top_k)[0]\n",
    "\n",
    "        # Check if the correct answer is in the top-k results\n",
    "        correct_answer = answers[i]\n",
    "        retrieved_answers = [corpus[result['corpus_id']] for result in results]\n",
    "\n",
    "        if correct_answer in retrieved_answers:\n",
    "            correct_count += 1\n",
    "\n",
    "    # Calculate accuracy\n",
    "    accuracy = correct_count / total_questions\n",
    "    return accuracy\n",
    "\n",
    "# Extract questions and corresponding answers from the test set\n",
    "test_questions = test_ds['question']\n",
    "test_answers = test_ds['answer']\n",
    "\n",
    "# Evaluate the model\n",
    "accuracy = evaluate_model(test_questions, test_answers, corpus, embeddings, model, top_k=5)\n",
    "print(f\"Top-5 Accuracy: {accuracy:.4f}\")\n"
   ]
  },
  {
   "cell_type": "code",
   "execution_count": null,
   "metadata": {},
   "outputs": [],
   "source": [
    "# Base accuracy \n",
    "# Nick was here"
   ]
  }
 ],
 "metadata": {
  "kernelspec": {
   "display_name": "venv",
   "language": "python",
   "name": "venv"
  },
  "language_info": {
   "codemirror_mode": {
    "name": "ipython",
    "version": 3
   },
   "file_extension": ".py",
   "mimetype": "text/x-python",
   "name": "python",
   "nbconvert_exporter": "python",
   "pygments_lexer": "ipython3",
   "version": "3.12.8"
  }
 },
 "nbformat": 4,
 "nbformat_minor": 4
}
