{
 "cells": [
  {
   "cell_type": "code",
   "execution_count": 2,
   "metadata": {},
   "outputs": [
    {
     "ename": "ModuleNotFoundError",
     "evalue": "No module named 'datasets'",
     "output_type": "error",
     "traceback": [
      "\u001b[0;31m---------------------------------------------------------------------------\u001b[0m",
      "\u001b[0;31mModuleNotFoundError\u001b[0m                       Traceback (most recent call last)",
      "Cell \u001b[0;32mIn[2], line 1\u001b[0m\n\u001b[0;32m----> 1\u001b[0m \u001b[38;5;28;01mfrom\u001b[39;00m \u001b[38;5;21;01mdatasets\u001b[39;00m \u001b[38;5;28;01mimport\u001b[39;00m load_dataset\n\u001b[1;32m      2\u001b[0m \u001b[38;5;28;01mfrom\u001b[39;00m \u001b[38;5;21;01msentence_transformers\u001b[39;00m \u001b[38;5;28;01mimport\u001b[39;00m (\n\u001b[1;32m      3\u001b[0m     SentenceTransformer,\n\u001b[1;32m      4\u001b[0m     SentenceTransformerTrainer,\n\u001b[1;32m      5\u001b[0m     SentenceTransformerTrainingArguments,\n\u001b[1;32m      6\u001b[0m     SentenceTransformerModelCardData,\n\u001b[1;32m      7\u001b[0m )\n\u001b[1;32m      8\u001b[0m \u001b[38;5;28;01mfrom\u001b[39;00m \u001b[38;5;21;01msentence_transformers\u001b[39;00m\u001b[38;5;21;01m.\u001b[39;00m\u001b[38;5;21;01mlosses\u001b[39;00m \u001b[38;5;28;01mimport\u001b[39;00m MultipleNegativesRankingLoss\n",
      "\u001b[0;31mModuleNotFoundError\u001b[0m: No module named 'datasets'"
     ]
    }
   ],
   "source": [
    "from datasets import load_dataset\n",
    "from sentence_transformers import (\n",
    "    SentenceTransformer,\n",
    "    SentenceTransformerTrainer,\n",
    "    SentenceTransformerTrainingArguments,\n",
    "    SentenceTransformerModelCardData,\n",
    ")\n",
    "from sentence_transformers.losses import MultipleNegativesRankingLoss\n",
    "from sentence_transformers.training_args import BatchSamplers\n",
    "from sentence_transformers.evaluation import InformationRetrievalEvaluator"
   ]
  },
  {
   "cell_type": "code",
   "execution_count": 10,
   "metadata": {},
   "outputs": [
    {
     "name": "stdout",
     "output_type": "stream",
     "text": [
      "Checkpoint: False\n"
     ]
    }
   ],
   "source": [
    "# Set parameters\n",
    "\n",
    "batch_size = 16\n",
    "epoch = 5\n",
    "model_name = \"all-MiniLM-L6-v2\"\n",
    "checkpoint_enable = False\n",
    "print(f\"Checkpoint: {checkpoint_enable}\")\n",
    "# model name : [\"all-MiniLM-L6-v2\", \"all-mpnet-base-v2\", \"multi-qa-mpnet-base-dot-v1\", \"all-distilroberta-v1\", \"all-MiniLM-L12-v2\", \"multi-qa-distilbert-cos-v1\", \"multi-qa-MiniLM-L6-cos-v1\"]\n",
    "model_output_folder = \"fine_tuned_models\"\n",
    "mode_output_name = f\"{model_name}_fineTuned_b{batch_size}_e{epoch}_bf16\""
   ]
  },
  {
   "cell_type": "code",
   "execution_count": 11,
   "metadata": {},
   "outputs": [
    {
     "name": "stdout",
     "output_type": "stream",
     "text": [
      "Train dataset size: 8083\n",
      "Validation dataset size: 0\n",
      "Evaluator Val dataset size: \n",
      "\t queries: 0\n",
      "\t corpus: 300\n",
      "\t relevant_docs: 0\n",
      "Evaluator Test dataset size: \n",
      "\t queries: 899\n",
      "\t corpus: 300\n",
      "\t relevant_docs: 899\n"
     ]
    }
   ],
   "source": [
    "from dataset_setup import get_datasets, print_dataset_info\n",
    "# 1. Load a model to finetune:\n",
    "model = SentenceTransformer(model_name)\n",
    "\n",
    "# 2. Load a dataset to finetune on\n",
    "file_path = \"./data/queries_corpus_300.json\"\n",
    "datasets = get_datasets(\n",
    "    file_path, 0.9, 0\n",
    ")  # Train 90% Validation 0 and Test 10% [At the end of complete training]\n",
    "\n",
    "print_dataset_info(datasets)"
   ]
  },
  {
   "cell_type": "code",
   "execution_count": null,
   "metadata": {},
   "outputs": [
    {
     "name": "stderr",
     "output_type": "stream",
     "text": [
      "/mnt/project_vol/.conda/envs/ashu_rag/lib/python3.13/site-packages/transformers/training_args.py:1575: FutureWarning: `evaluation_strategy` is deprecated and will be removed in version 4.46 of 🤗 Transformers. Use `eval_strategy` instead\n",
      "  warnings.warn(\n"
     ]
    }
   ],
   "source": [
    "# 3. Define a loss function\n",
    "loss = MultipleNegativesRankingLoss(model)\n",
    "\n",
    "\n",
    "# 4. Specify training arguments\n",
    "train_args = SentenceTransformerTrainingArguments (\n",
    "    # Required parameter:\n",
    "    output_dir=f\"{model_output_folder}/{mode_output_name}\",\n",
    "    # Optional training parameters:\n",
    "    num_train_epochs=epoch,\n",
    "    per_device_train_batch_size=batch_size,\n",
    "    per_device_eval_batch_size=batch_size,\n",
    "    learning_rate=2e-5,\n",
    "    warmup_ratio=0.1,\n",
    "    fp16=False,  # Set to False if you get an error that your GPU can't run on FP16\n",
    "    bf16=False,  # Set to True if you have a GPU that supports BF16\n",
    "    batch_sampler=BatchSamplers.NO_DUPLICATES,  # losses that use \"in-batch negatives\" benefit from no duplicates\n",
    "    # Optional tracking/debugging parameters:\n",
    "    evaluation_strategy=\"no\",\n",
    "    # eval_steps=100,\n",
    "    save_strategy=\"steps\",\n",
    "    save_steps=50,\n",
    "    save_total_limit=2,\n",
    "    logging_steps=50,\n",
    "    log_on_each_node=False,\n",
    "    run_name=mode_output_name,  # Will be used in W&B if `wandb` is installed\n",
    ")"
   ]
  },
  {
   "cell_type": "code",
   "execution_count": 13,
   "metadata": {},
   "outputs": [
    {
     "name": "stdout",
     "output_type": "stream",
     "text": [
      "Evaluation for Base model all-MiniLM-L6-v2\n",
      ": {'cosine_accuracy@1': 0.7041156840934372, 'cosine_accuracy@3': 0.8954393770856507, 'cosine_accuracy@5': 0.9243604004449388, 'cosine_accuracy@10': 0.9599555061179088, 'cosine_precision@1': np.float64(0.7041156840934372), 'cosine_precision@3': np.float64(0.29847979236188354), 'cosine_precision@5': np.float64(0.18487208008898776), 'cosine_precision@10': np.float64(0.09599555061179088), 'cosine_recall@1': np.float64(0.7041156840934372), 'cosine_recall@3': np.float64(0.8954393770856507), 'cosine_recall@5': np.float64(0.9243604004449388), 'cosine_recall@10': np.float64(0.9599555061179088), 'cosine_ndcg@10': np.float64(0.8439564928809712), 'cosine_mrr@10': 0.8056398643995979, 'cosine_map@100': np.float64(0.8073769182152172)}\n"
     ]
    }
   ],
   "source": [
    "# 5. Create an evaluator & evaluate the base model\n",
    "eval_dataset = datasets[\"evaluator_test\"]\n",
    "dev_evaluator = InformationRetrievalEvaluator(\n",
    "    eval_dataset[\"queries\"], eval_dataset[\"corpus\"], eval_dataset[\"relevant_docs\"]\n",
    ")\n",
    "\n",
    "print(f\"Evaluation for Base model {model_name}\\n: {dev_evaluator(model)}\")"
   ]
  },
  {
   "cell_type": "code",
   "execution_count": 1,
   "metadata": {},
   "outputs": [
    {
     "ename": "NameError",
     "evalue": "name 'SentenceTransformerTrainer' is not defined",
     "output_type": "error",
     "traceback": [
      "\u001b[0;31m---------------------------------------------------------------------------\u001b[0m",
      "\u001b[0;31mNameError\u001b[0m                                 Traceback (most recent call last)",
      "Cell \u001b[0;32mIn[1], line 2\u001b[0m\n\u001b[1;32m      1\u001b[0m \u001b[38;5;66;03m# 6. Create a trainer & train\u001b[39;00m\n\u001b[0;32m----> 2\u001b[0m trainer \u001b[38;5;241m=\u001b[39m \u001b[43mSentenceTransformerTrainer\u001b[49m(\n\u001b[1;32m      3\u001b[0m     model\u001b[38;5;241m=\u001b[39mmodel,\n\u001b[1;32m      4\u001b[0m     args\u001b[38;5;241m=\u001b[39mtrain_args,\n\u001b[1;32m      5\u001b[0m     train_dataset\u001b[38;5;241m=\u001b[39mdatasets[\u001b[38;5;124m\"\u001b[39m\u001b[38;5;124mtrain\u001b[39m\u001b[38;5;124m\"\u001b[39m],\n\u001b[1;32m      6\u001b[0m     \u001b[38;5;66;03m# eval_dataset=datasets[\"val\"], # To get validation loss details during training. May slow down trainig.\u001b[39;00m\n\u001b[1;32m      7\u001b[0m     loss\u001b[38;5;241m=\u001b[39mloss,\n\u001b[1;32m      8\u001b[0m     \u001b[38;5;66;03m# evaluator=dev_evaluator, # To get detailed evaluation results during trainig.\u001b[39;00m\n\u001b[1;32m      9\u001b[0m )\n\u001b[1;32m     10\u001b[0m trainer\u001b[38;5;241m.\u001b[39mtrain(resume_from_checkpoint\u001b[38;5;241m=\u001b[39mcheckpoint_enable)\n",
      "\u001b[0;31mNameError\u001b[0m: name 'SentenceTransformerTrainer' is not defined"
     ]
    }
   ],
   "source": [
    "# 6. Create a trainer & train\n",
    "trainer = SentenceTransformerTrainer(\n",
    "    model=model,\n",
    "    args=train_args,\n",
    "    train_dataset=datasets[\"train\"],\n",
    "    # eval_dataset=datasets[\"val\"], # To get validation loss details during training. May slow down trainig.\n",
    "    loss=loss,\n",
    "    # evaluator=dev_evaluator, # To get detailed evaluation results during trainig.\n",
    ")\n",
    "trainer.train(resume_from_checkpoint=checkpoint_enable)"
   ]
  },
  {
   "cell_type": "code",
   "execution_count": null,
   "metadata": {},
   "outputs": [],
   "source": [
    "# 7. Evaluate the trained model on the test set\n",
    "dev_evaluator(model)\n",
    "print(f\"Evaluation for FineTuned model {model_name}\\n: {dev_evaluator(model)}\")"
   ]
  },
  {
   "cell_type": "code",
   "execution_count": null,
   "metadata": {},
   "outputs": [],
   "source": [
    "# 8. Save the trained model\n",
    "model.save_pretrained(\n",
    "    f\"{model_output_folder}/{mode_output_name}\"\n",
    ")"
   ]
  }
 ],
 "metadata": {
  "kernelspec": {
   "display_name": "venv",
   "language": "python",
   "name": "python3"
  },
  "language_info": {
   "codemirror_mode": {
    "name": "ipython",
    "version": 3
   },
   "file_extension": ".py",
   "mimetype": "text/x-python",
   "name": "python",
   "nbconvert_exporter": "python",
   "pygments_lexer": "ipython3",
   "version": "3.12.8"
  }
 },
 "nbformat": 4,
 "nbformat_minor": 2
}
